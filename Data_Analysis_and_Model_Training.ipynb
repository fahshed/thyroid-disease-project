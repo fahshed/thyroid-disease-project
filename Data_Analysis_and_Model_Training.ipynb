{
  "cells": [
    {
      "cell_type": "code",
      "source": [
        "import csv\n",
        "import pandas as pd\n",
        "import numpy as np\n",
        "from sklearn.impute import SimpleImputer\n",
        "import seaborn as sns\n",
        "import statsmodels.api as sm\n",
        "from statsmodels.formula.api import ols\n",
        "from sklearn.decomposition import PCA\n",
        "from sklearn.preprocessing import StandardScaler\n",
        "from sklearn.cluster import KMeans\n",
        "from sklearn.metrics import silhouette_score, adjusted_rand_score, confusion_matrix, classification_report, accuracy_score, precision_score, recall_score, f1_score\n",
        "import matplotlib.pyplot as plt\n",
        "from mpl_toolkits.mplot3d import Axes3D\n",
        "from sklearn.model_selection import train_test_split\n",
        "from tensorflow.keras.models import Sequential\n",
        "from tensorflow.keras.layers import Dense, Dropout\n",
        "from tensorflow.keras.optimizers import Adam\n",
        "from tensorflow.keras.callbacks import ReduceLROnPlateau, ModelCheckpoint, EarlyStopping\n",
        "from tensorflow.keras.utils import plot_model\n",
        "from IPython.display import Image"
      ],
      "metadata": {
        "id": "92Vx-QwJgzDB"
      },
      "execution_count": null,
      "outputs": []
    },
    {
      "cell_type": "code",
      "source": [
        "input_files = ['allhypo.data', 'allhypo.test']\n",
        "output_file = 'hypothyroid.csv'\n",
        "\n",
        "data_rows = []\n",
        "\n",
        "for filename in input_files:\n",
        "    with open(filename, 'r') as file:\n",
        "        for line in file:\n",
        "            line = line.strip()\n",
        "            if not line:\n",
        "                continue\n",
        "\n",
        "            parts = line.split(',')\n",
        "\n",
        "            last_part = parts[-1]\n",
        "            if '|' in last_part:\n",
        "                last_field, _ = last_part.split('.|', 1)\n",
        "                parts[-1] = last_field\n",
        "\n",
        "            data_rows.append(parts)\n",
        "\n",
        "headers = [\n",
        "    'age', 'sex', 'on thyroxine', 'query on thyroxine', 'on antithyroid medication', 'sick',\n",
        "    'pregnant', 'thyroid surgery', 'I131 treatment', 'query hypothyroid', 'query hyperthyroid',\n",
        "    'lithium', 'goitre', 'tumor', 'hypopituitary', 'psych', 'TSH measured', 'TSH', 'T3 measured',\n",
        "    'T3', 'TT4 measured', 'TT4', 'T4U measured', 'T4U', 'FTI measured', 'FTI', 'TBG measured',\n",
        "    'TBG', 'referral source', 'binaryClass'\n",
        "]\n",
        "\n",
        "processed_rows = []\n",
        "for row in data_rows:\n",
        "    if len(row) != len(headers):\n",
        "        print(f\"Warning: Row length {len(row)} does not match header length {len(headers)}.\")\n",
        "        continue\n",
        "\n",
        "    if row[-1] == 'negative':\n",
        "        row[-1] = 'P'\n",
        "    else:\n",
        "        row[-1] = 'N'\n",
        "\n",
        "    processed_rows.append(row)\n",
        "\n",
        "\n",
        "with open(output_file, 'w', newline='') as csvfile:\n",
        "    writer = csv.writer(csvfile, delimiter=',')\n",
        "    writer.writerow(headers)\n",
        "    writer.writerows(processed_rows)\n",
        "\n",
        "print(f\"Data merged and saved to '{output_file}'.\")"
      ],
      "metadata": {
        "id": "6yBEJ4-fe50y"
      },
      "execution_count": null,
      "outputs": []
    },
    {
      "cell_type": "code",
      "source": [
        "df = pd.read_csv('./hypothyroid.csv')\n",
        "df.head()"
      ],
      "metadata": {
        "id": "Ky_L6nm97eFm"
      },
      "execution_count": null,
      "outputs": []
    },
    {
      "cell_type": "code",
      "source": [
        "df.info()"
      ],
      "metadata": {
        "id": "fMykLfbs7j4v"
      },
      "execution_count": null,
      "outputs": []
    },
    {
      "cell_type": "code",
      "source": [
        "df[\"binaryClass\"] = df[\"binaryClass\"].map({\"P\":0,\"N\":1})\n",
        "df = df.replace({\"t\": 1, \"f\": 0})\n",
        "df = df.replace({\"F\": 1, \"M\": 0})\n",
        "df = df.replace({\"?\": np.NAN})"
      ],
      "metadata": {
        "id": "soJojJBH74kO"
      },
      "execution_count": null,
      "outputs": []
    },
    {
      "cell_type": "code",
      "source": [
        "df.head()"
      ],
      "metadata": {
        "id": "p2PVb6kr8CMG"
      },
      "execution_count": null,
      "outputs": []
    },
    {
      "cell_type": "code",
      "source": [
        "df[\"referral source\"].value_counts()\n",
        "del df[\"referral source\"]"
      ],
      "metadata": {
        "id": "Ewz_Ov1m8yUO"
      },
      "execution_count": null,
      "outputs": []
    },
    {
      "cell_type": "code",
      "source": [
        "cols = df.columns[df.dtypes.eq('object')]\n",
        "df[cols] = df[cols].apply(pd.to_numeric, errors='coerce')\n",
        "df.dtypes"
      ],
      "metadata": {
        "id": "U_za2QlB9AVF"
      },
      "execution_count": null,
      "outputs": []
    },
    {
      "cell_type": "code",
      "source": [
        "df.isnull().sum()"
      ],
      "metadata": {
        "id": "mT6Z7T1o9gnt"
      },
      "execution_count": null,
      "outputs": []
    },
    {
      "cell_type": "code",
      "source": [
        "df = df.drop(['TBG measured', 'TBG'], axis=1)"
      ],
      "metadata": {
        "id": "FqAR2CPeHDL7"
      },
      "execution_count": null,
      "outputs": []
    },
    {
      "cell_type": "code",
      "source": [
        "imputer = SimpleImputer(strategy='mean')\n",
        "\n",
        "df['T4U measured'] = imputer.fit_transform(df[['T4U measured']])\n",
        "df['sex'] = imputer.fit_transform(df[['sex']])\n",
        "df['age'] = imputer.fit_transform(df[['age']])\n",
        "df['TSH'] = imputer.fit_transform(df[['TSH']])\n",
        "df['T3'] = imputer.fit_transform(df[['T3']])\n",
        "df['TT4'] = imputer.fit_transform(df[['TT4']])\n",
        "df['T4U'] = imputer.fit_transform(df[['T4U']])\n",
        "df['FTI'] = imputer.fit_transform(df[['FTI']])"
      ],
      "metadata": {
        "execution": {
          "iopub.status.busy": "2021-12-15T11:02:20.625079Z",
          "iopub.execute_input": "2021-12-15T11:02:20.625568Z",
          "iopub.status.idle": "2021-12-15T11:02:20.634901Z",
          "shell.execute_reply.started": "2021-12-15T11:02:20.625535Z",
          "shell.execute_reply": "2021-12-15T11:02:20.633796Z"
        },
        "trusted": true,
        "id": "dTQMAnxlZj1I"
      },
      "execution_count": null,
      "outputs": []
    },
    {
      "cell_type": "code",
      "source": [
        "df.head()"
      ],
      "metadata": {
        "id": "tpD7XiMl_JtV"
      },
      "execution_count": null,
      "outputs": []
    },
    {
      "cell_type": "code",
      "source": [
        "df.isnull().sum()"
      ],
      "metadata": {
        "id": "jqFkOyMl_QdV",
        "collapsed": true
      },
      "execution_count": null,
      "outputs": []
    },
    {
      "cell_type": "code",
      "source": [
        "%matplotlib inline\n",
        "sns.set(rc={'figure.figsize': [5, 5]}, font_scale=0.7)"
      ],
      "metadata": {
        "id": "tPfLieA3_0ce"
      },
      "execution_count": null,
      "outputs": []
    },
    {
      "cell_type": "code",
      "source": [
        "sns.distplot(df['age'])"
      ],
      "metadata": {
        "execution": {
          "iopub.status.busy": "2021-12-15T11:02:20.826187Z",
          "iopub.execute_input": "2021-12-15T11:02:20.826478Z",
          "iopub.status.idle": "2021-12-15T11:02:21.168205Z",
          "shell.execute_reply.started": "2021-12-15T11:02:20.826448Z",
          "shell.execute_reply": "2021-12-15T11:02:21.167081Z"
        },
        "trusted": true,
        "id": "_WKSldNQZj1T"
      },
      "execution_count": null,
      "outputs": []
    },
    {
      "cell_type": "code",
      "source": [
        "sns.distplot(df['sex'])"
      ],
      "metadata": {
        "execution": {
          "iopub.status.busy": "2021-12-15T11:02:21.169854Z",
          "iopub.execute_input": "2021-12-15T11:02:21.170473Z",
          "iopub.status.idle": "2021-12-15T11:02:21.455282Z",
          "shell.execute_reply.started": "2021-12-15T11:02:21.170392Z",
          "shell.execute_reply": "2021-12-15T11:02:21.454305Z"
        },
        "trusted": true,
        "id": "IYHWB54nZj1T",
        "collapsed": true
      },
      "execution_count": null,
      "outputs": []
    },
    {
      "cell_type": "code",
      "source": [
        "sns.distplot(df['T3'])"
      ],
      "metadata": {
        "execution": {
          "iopub.status.busy": "2021-12-15T11:02:21.456798Z",
          "iopub.execute_input": "2021-12-15T11:02:21.45719Z",
          "iopub.status.idle": "2021-12-15T11:02:21.813497Z",
          "shell.execute_reply.started": "2021-12-15T11:02:21.457133Z",
          "shell.execute_reply": "2021-12-15T11:02:21.812501Z"
        },
        "trusted": true,
        "id": "rJmWBVrSZj1T",
        "collapsed": true
      },
      "execution_count": null,
      "outputs": []
    },
    {
      "cell_type": "code",
      "source": [
        "sns.distplot(df['TT4'])"
      ],
      "metadata": {
        "execution": {
          "iopub.status.busy": "2021-12-15T11:02:21.815147Z",
          "iopub.execute_input": "2021-12-15T11:02:21.815514Z",
          "iopub.status.idle": "2021-12-15T11:02:22.159236Z",
          "shell.execute_reply.started": "2021-12-15T11:02:21.815477Z",
          "shell.execute_reply": "2021-12-15T11:02:22.158419Z"
        },
        "trusted": true,
        "id": "IIzP1kqrZj1T",
        "collapsed": true
      },
      "execution_count": null,
      "outputs": []
    },
    {
      "cell_type": "code",
      "source": [
        "sns.distplot(df['T4U'])"
      ],
      "metadata": {
        "execution": {
          "iopub.status.busy": "2021-12-15T11:02:22.16222Z",
          "iopub.execute_input": "2021-12-15T11:02:22.162519Z",
          "iopub.status.idle": "2021-12-15T11:02:22.849576Z",
          "shell.execute_reply.started": "2021-12-15T11:02:22.16249Z",
          "shell.execute_reply": "2021-12-15T11:02:22.848429Z"
        },
        "trusted": true,
        "id": "yS2fl5UhZj1U",
        "collapsed": true
      },
      "execution_count": null,
      "outputs": []
    },
    {
      "cell_type": "code",
      "source": [
        "sns.distplot(df['FTI'])"
      ],
      "metadata": {
        "execution": {
          "iopub.status.busy": "2021-12-15T11:02:22.850948Z",
          "iopub.execute_input": "2021-12-15T11:02:22.851225Z",
          "iopub.status.idle": "2021-12-15T11:02:23.172882Z",
          "shell.execute_reply.started": "2021-12-15T11:02:22.851197Z",
          "shell.execute_reply": "2021-12-15T11:02:23.171981Z"
        },
        "trusted": true,
        "id": "pmxd6kmwZj1U",
        "collapsed": true
      },
      "execution_count": null,
      "outputs": []
    },
    {
      "cell_type": "code",
      "source": [
        "sns.countplot(x='binaryClass', data=df, palette='rocket')"
      ],
      "metadata": {
        "execution": {
          "iopub.status.busy": "2021-12-15T11:02:25.818447Z",
          "iopub.execute_input": "2021-12-15T11:02:25.818697Z",
          "iopub.status.idle": "2021-12-15T11:02:25.960577Z",
          "shell.execute_reply.started": "2021-12-15T11:02:25.818671Z",
          "shell.execute_reply": "2021-12-15T11:02:25.959657Z"
        },
        "trusted": true,
        "id": "5ozCCQ1uZj1W",
        "collapsed": true
      },
      "execution_count": null,
      "outputs": []
    },
    {
      "cell_type": "code",
      "source": [
        "sns.countplot(x='binaryClass', data=df, hue='sex', palette='BuPu')"
      ],
      "metadata": {
        "execution": {
          "iopub.status.busy": "2021-12-15T11:02:25.961975Z",
          "iopub.execute_input": "2021-12-15T11:02:25.962262Z",
          "iopub.status.idle": "2021-12-15T11:02:26.137348Z",
          "shell.execute_reply.started": "2021-12-15T11:02:25.962231Z",
          "shell.execute_reply": "2021-12-15T11:02:26.136376Z"
        },
        "trusted": true,
        "id": "qD8ttNjOZj1X",
        "collapsed": true
      },
      "execution_count": null,
      "outputs": []
    },
    {
      "cell_type": "code",
      "source": [
        "sns.boxplot(x='binaryClass', y='age', data=df)"
      ],
      "metadata": {
        "execution": {
          "iopub.status.busy": "2021-12-15T11:02:26.295939Z",
          "iopub.execute_input": "2021-12-15T11:02:26.296336Z",
          "iopub.status.idle": "2021-12-15T11:02:26.448967Z",
          "shell.execute_reply.started": "2021-12-15T11:02:26.296291Z",
          "shell.execute_reply": "2021-12-15T11:02:26.447801Z"
        },
        "trusted": true,
        "id": "BamqR1LHZj1X",
        "collapsed": true
      },
      "execution_count": null,
      "outputs": []
    },
    {
      "cell_type": "code",
      "source": [
        "df_corr = df.corr()"
      ],
      "metadata": {
        "execution": {
          "iopub.status.busy": "2021-12-15T11:02:27.413889Z",
          "iopub.execute_input": "2021-12-15T11:02:27.414188Z",
          "iopub.status.idle": "2021-12-15T11:02:27.461216Z",
          "shell.execute_reply.started": "2021-12-15T11:02:27.414156Z",
          "shell.execute_reply": "2021-12-15T11:02:27.460309Z"
        },
        "trusted": true,
        "id": "7E8in8MLZj1Y",
        "collapsed": true
      },
      "execution_count": null,
      "outputs": []
    },
    {
      "cell_type": "code",
      "source": [
        "plt.figure(figsize=(12, 10))\n",
        "sns.heatmap(df_corr, cmap='viridis', linecolor='k', linewidths=2, annot=True)\n",
        "plt.tight_layout()\n",
        "plt.show()"
      ],
      "metadata": {
        "execution": {
          "iopub.status.busy": "2021-12-15T11:02:27.462697Z",
          "iopub.execute_input": "2021-12-15T11:02:27.462987Z",
          "iopub.status.idle": "2021-12-15T11:02:29.955783Z",
          "shell.execute_reply.started": "2021-12-15T11:02:27.462956Z",
          "shell.execute_reply": "2021-12-15T11:02:29.954747Z"
        },
        "trusted": true,
        "id": "41za9-MMZj1Z",
        "collapsed": true
      },
      "execution_count": null,
      "outputs": []
    },
    {
      "cell_type": "code",
      "source": [
        "print(df.head())"
      ],
      "metadata": {
        "id": "RQEd38f0LViX"
      },
      "execution_count": null,
      "outputs": []
    },
    {
      "cell_type": "code",
      "source": [
        "# anova\n",
        "\n",
        "bins = [0, 20, 40, 60, 80, np.inf]\n",
        "labels = ['0-19', '20-39', '40-59', '60-79', '80+']\n",
        "\n",
        "df['age_group'] = pd.cut(df['age'], bins=bins, labels=labels, right=False)\n",
        "\n",
        "model = ols('TSH ~ C(age_group)', data=df).fit()\n",
        "\n",
        "df = df.drop(['age_group'], axis=1)\n",
        "\n",
        "anova_table = sm.stats.anova_lm(model, typ=2)\n",
        "\n",
        "print(anova_table)"
      ],
      "metadata": {
        "id": "3jN0cES4N-Qg"
      },
      "execution_count": null,
      "outputs": []
    },
    {
      "cell_type": "code",
      "source": [
        "# pca\n",
        "\n",
        "X = df.drop(['binaryClass'], axis=1).fillna(0)\n",
        "y = df['binaryClass']\n",
        "\n",
        "scaler = StandardScaler()\n",
        "X_scaled = scaler.fit_transform(X)\n",
        "\n",
        "pca = PCA(n_components=3)\n",
        "X_pca = pca.fit_transform(X_scaled)\n",
        "\n",
        "component_names = [f'PC{i+1}' for i in range(pca.n_components_)]\n",
        "df_pca = pd.DataFrame(X_pca, columns=component_names)\n",
        "\n",
        "df_pca['binaryClass'] = y.reset_index(drop=True)\n",
        "\n",
        "df_pca.head()"
      ],
      "metadata": {
        "id": "Jsugn34nPNVo"
      },
      "execution_count": null,
      "outputs": []
    },
    {
      "cell_type": "code",
      "source": [
        "# k-means clustering\n",
        "\n",
        "sns.set(style=\"whitegrid\")\n",
        "\n",
        "X = df_pca[['PC1', 'PC2', 'PC3']]\n",
        "\n",
        "optimal_k = 2\n",
        "kmeans = KMeans(n_clusters=optimal_k, random_state=42)\n",
        "\n",
        "df_pca['Cluster'] = kmeans.fit_predict(X)\n",
        "print(df_pca.head())\n",
        "\n",
        "y_true = df_pca['binaryClass']\n",
        "y_pred = df_pca['Cluster']\n",
        "\n",
        "\n",
        "fig = plt.figure(figsize=(10, 7))\n",
        "ax = fig.add_subplot(111, projection='3d')\n",
        "colors = df_pca['Cluster'].map({0: 'red', 1: 'blue'})\n",
        "ax.scatter(df_pca['PC1'], df_pca['PC2'], df_pca['PC3'], c=colors, alpha=0.6)\n",
        "ax.set_title(f'K-Means Clustering with k={optimal_k}')\n",
        "ax.set_xlabel('PC1')\n",
        "ax.set_ylabel('PC2')\n",
        "ax.set_zlabel('PC3')"
      ],
      "metadata": {
        "id": "uby-p0haVyX0"
      },
      "execution_count": null,
      "outputs": []
    },
    {
      "cell_type": "code",
      "source": [
        "x = df.drop(['binaryClass'], axis=1)\n",
        "y = df['binaryClass']"
      ],
      "metadata": {
        "id": "y7fJeZ_hg4mF"
      },
      "execution_count": null,
      "outputs": []
    },
    {
      "cell_type": "code",
      "source": [
        "x_train, x_test, y_train, y_test = train_test_split(x, y, test_size=0.25, random_state=42)"
      ],
      "metadata": {
        "id": "pSwsqrx6KPaK"
      },
      "execution_count": null,
      "outputs": []
    },
    {
      "cell_type": "code",
      "source": [
        "x_ols_train = sm.add_constant(x_train)\n",
        "x_ols_test = sm.add_constant(x_test)"
      ],
      "metadata": {
        "id": "DcB6MnqwKWlq"
      },
      "execution_count": null,
      "outputs": []
    },
    {
      "cell_type": "code",
      "source": [
        "model = sm.OLS(y_train, x_ols_train).fit()"
      ],
      "metadata": {
        "id": "10Uzi-ynKbvt"
      },
      "execution_count": null,
      "outputs": []
    },
    {
      "cell_type": "code",
      "source": [
        "predicted_probs = model.predict(x_ols_test)\n",
        "predicted_classes = (predicted_probs > 0.5).astype(int)\n",
        "\n",
        "accuracy = accuracy_score(y_test, predicted_classes)\n",
        "precision = precision_score(y_test, predicted_classes)\n",
        "recall = recall_score(y_test, predicted_classes)\n",
        "f1 = f1_score(y_test, predicted_classes)\n",
        "\n",
        "print(f\"Accuracy: {accuracy}\")\n",
        "print(f\"Precision: {precision}\")\n",
        "print(f\"Recall: {recall}\")\n",
        "print(f\"F1 Score: {f1}\")\n",
        "\n",
        "conf_matrix = confusion_matrix(y_test, predicted_classes)\n",
        "print(\"Confusion Matrix:\")\n",
        "print(conf_matrix)"
      ],
      "metadata": {
        "id": "CHlCQr2YKpi5"
      },
      "execution_count": null,
      "outputs": []
    },
    {
      "cell_type": "code",
      "source": [
        "x.shape[1]"
      ],
      "metadata": {
        "id": "r9gDSlro1F2j"
      },
      "execution_count": null,
      "outputs": []
    },
    {
      "cell_type": "code",
      "source": [
        "model = Sequential()\n",
        "model.add(Dense(256, input_shape=[x.shape[1]], activation='relu'))\n",
        "model.add(Dropout(0.4))\n",
        "model.add(Dense(128, activation='relu'))\n",
        "model.add(Dropout(0.3))\n",
        "model.add(Dense(64, activation='relu'))\n",
        "model.add(Dropout(0.2))\n",
        "model.add(Dense(1, activation='sigmoid'))"
      ],
      "metadata": {
        "id": "mGFfXyuKMMcB"
      },
      "execution_count": null,
      "outputs": []
    },
    {
      "cell_type": "code",
      "source": [
        "model.summary()"
      ],
      "metadata": {
        "id": "9evPyRNoMSYJ"
      },
      "execution_count": null,
      "outputs": []
    },
    {
      "cell_type": "code",
      "source": [
        "plot_model(model, to_file='convnet.png', show_shapes=True,show_layer_names=True)\n",
        "Image(filename='convnet.png')"
      ],
      "metadata": {
        "collapsed": true,
        "id": "HzjdLnQsMXj5"
      },
      "execution_count": null,
      "outputs": []
    },
    {
      "cell_type": "code",
      "source": [
        "model.compile(optimizer=Adam(), loss='binary_crossentropy', metrics=['accuracy'])"
      ],
      "metadata": {
        "id": "aRfQd8NcMi0L"
      },
      "execution_count": null,
      "outputs": []
    },
    {
      "cell_type": "code",
      "source": [
        "lrd = ReduceLROnPlateau(monitor = 'val_loss',\n",
        "                         patience = 20,\n",
        "                         verbose = 1,\n",
        "                         factor = 0.75,\n",
        "                         min_lr = 1e-10)\n",
        "mcp = ModelCheckpoint('model.keras')\n",
        "es = EarlyStopping(verbose=1, patience=20)"
      ],
      "metadata": {
        "id": "Fej9mJmBMlsy"
      },
      "execution_count": null,
      "outputs": []
    },
    {
      "cell_type": "code",
      "source": [
        "history = model.fit(x=x_train, y=y_train, epochs=100, callbacks=[lrd, mcp, es], batch_size=64, validation_split=0.1)"
      ],
      "metadata": {
        "id": "soto-78iMnlJ"
      },
      "execution_count": null,
      "outputs": []
    },
    {
      "cell_type": "code",
      "source": [
        "model.evaluate(x_test, y_test)"
      ],
      "metadata": {
        "id": "t68qvTTYMqoJ"
      },
      "execution_count": null,
      "outputs": []
    },
    {
      "cell_type": "code",
      "source": [
        "y_pred = model.predict(x_test)\n",
        "y_pred"
      ],
      "metadata": {
        "execution": {
          "iopub.status.busy": "2021-12-15T11:02:40.941907Z",
          "iopub.execute_input": "2021-12-15T11:02:40.942208Z",
          "iopub.status.idle": "2021-12-15T11:02:41.067369Z",
          "shell.execute_reply.started": "2021-12-15T11:02:40.942176Z",
          "shell.execute_reply": "2021-12-15T11:02:41.066334Z"
        },
        "trusted": true,
        "id": "1jBCAdeCgg0W"
      },
      "execution_count": null,
      "outputs": []
    },
    {
      "cell_type": "code",
      "source": [
        "y_pred[1]"
      ],
      "metadata": {
        "execution": {
          "iopub.status.busy": "2021-12-15T11:02:41.069072Z",
          "iopub.execute_input": "2021-12-15T11:02:41.069419Z",
          "iopub.status.idle": "2021-12-15T11:02:41.075597Z",
          "shell.execute_reply.started": "2021-12-15T11:02:41.069376Z",
          "shell.execute_reply": "2021-12-15T11:02:41.074512Z"
        },
        "trusted": true,
        "id": "XguE0DGPgg0W"
      },
      "execution_count": null,
      "outputs": []
    },
    {
      "cell_type": "code",
      "source": [
        "y_test"
      ],
      "metadata": {
        "execution": {
          "iopub.status.busy": "2021-12-15T11:02:41.076879Z",
          "iopub.execute_input": "2021-12-15T11:02:41.077169Z",
          "iopub.status.idle": "2021-12-15T11:02:41.093757Z",
          "shell.execute_reply.started": "2021-12-15T11:02:41.077141Z",
          "shell.execute_reply": "2021-12-15T11:02:41.092548Z"
        },
        "trusted": true,
        "id": "DBoL62Ubgg0W"
      },
      "execution_count": null,
      "outputs": []
    },
    {
      "cell_type": "code",
      "source": [
        "y_pred[50]"
      ],
      "metadata": {
        "execution": {
          "iopub.status.busy": "2021-12-15T11:02:41.193467Z",
          "iopub.execute_input": "2021-12-15T11:02:41.193756Z",
          "iopub.status.idle": "2021-12-15T11:02:41.265495Z",
          "shell.execute_reply.started": "2021-12-15T11:02:41.193728Z",
          "shell.execute_reply": "2021-12-15T11:02:41.264275Z"
        },
        "trusted": true,
        "id": "78dbXiBBgg0X"
      },
      "execution_count": null,
      "outputs": []
    },
    {
      "cell_type": "code",
      "source": [
        "y_test.iloc[50]"
      ],
      "metadata": {
        "execution": {
          "iopub.status.busy": "2021-12-15T11:02:41.334207Z",
          "iopub.execute_input": "2021-12-15T11:02:41.334519Z",
          "iopub.status.idle": "2021-12-15T11:02:41.339549Z",
          "shell.execute_reply.started": "2021-12-15T11:02:41.334484Z",
          "shell.execute_reply": "2021-12-15T11:02:41.338719Z"
        },
        "trusted": true,
        "id": "-N6_UhMmgg0Y"
      },
      "execution_count": null,
      "outputs": []
    },
    {
      "cell_type": "code",
      "source": [
        "model.predict(x_test)[70]"
      ],
      "metadata": {
        "execution": {
          "iopub.status.busy": "2021-12-15T11:02:41.340731Z",
          "iopub.execute_input": "2021-12-15T11:02:41.341194Z",
          "iopub.status.idle": "2021-12-15T11:02:41.414027Z",
          "shell.execute_reply.started": "2021-12-15T11:02:41.341158Z",
          "shell.execute_reply": "2021-12-15T11:02:41.413208Z"
        },
        "trusted": true,
        "id": "CcadPi2Agg0Y"
      },
      "execution_count": null,
      "outputs": []
    },
    {
      "cell_type": "code",
      "source": [
        "y_test.iloc[70]"
      ],
      "metadata": {
        "execution": {
          "iopub.status.busy": "2021-12-15T11:02:41.479905Z",
          "iopub.execute_input": "2021-12-15T11:02:41.480309Z",
          "iopub.status.idle": "2021-12-15T11:02:41.48737Z",
          "shell.execute_reply.started": "2021-12-15T11:02:41.480264Z",
          "shell.execute_reply": "2021-12-15T11:02:41.485996Z"
        },
        "trusted": true,
        "id": "8rSlXHFlgg0Z"
      },
      "execution_count": null,
      "outputs": []
    },
    {
      "cell_type": "code",
      "source": [
        "plt.plot(history.history['loss'])\n",
        "plt.plot(history.history['val_loss'])\n",
        "plt.title('model loss')\n",
        "plt.ylabel('loss')\n",
        "plt.xlabel('epoch')\n",
        "\n",
        "plt.legend(['train', 'test'], loc='upper left')\n",
        "plt.show()\n",
        "\n",
        "plt.plot(history.history['accuracy'])\n",
        "plt.plot(history.history['val_accuracy'])\n",
        "plt.title('model accuracy')\n",
        "plt.ylabel('accuracy')\n",
        "plt.xlabel('epoch')\n",
        "plt.legend(['train', 'test'], loc='upper right')\n",
        "plt.show()"
      ],
      "metadata": {
        "execution": {
          "iopub.status.busy": "2021-12-15T11:02:41.546773Z",
          "iopub.execute_input": "2021-12-15T11:02:41.547048Z",
          "iopub.status.idle": "2021-12-15T11:02:42.142225Z",
          "shell.execute_reply.started": "2021-12-15T11:02:41.54702Z",
          "shell.execute_reply": "2021-12-15T11:02:42.140928Z"
        },
        "trusted": true,
        "id": "XboAsD3rgg0Z"
      },
      "execution_count": null,
      "outputs": []
    },
    {
      "cell_type": "code",
      "source": [
        "model.save('model.keras')"
      ],
      "metadata": {
        "id": "z5_0LoW4NPdZ"
      },
      "execution_count": null,
      "outputs": []
    },
    {
      "cell_type": "code",
      "source": [
        "predicted_classes = (y_pred > 0.5).astype(int)\n",
        "\n",
        "accuracy = accuracy_score(y_test, predicted_classes)\n",
        "precision = precision_score(y_test, predicted_classes)\n",
        "recall = recall_score(y_test, predicted_classes)\n",
        "f1 = f1_score(y_test, predicted_classes)\n",
        "\n",
        "print(f\"Accuracy: {accuracy:.4f}\")\n",
        "print(f\"Precision: {precision:.4f}\")\n",
        "print(f\"Recall: {recall:.4f}\")\n",
        "print(f\"F1 Score: {f1:.4f}\")\n",
        "\n",
        "conf_matrix = confusion_matrix(y_test, predicted_classes)\n",
        "print(\"Confusion Matrix:\")\n",
        "print(conf_matrix)"
      ],
      "metadata": {
        "id": "W7u1Q32wgAm9"
      },
      "execution_count": null,
      "outputs": []
    },
    {
      "cell_type": "code",
      "source": [
        "models = ['Model 1', 'Model 2', 'Model 3']\n",
        "\n",
        "accuracies = [0.85, 0.98, 0.78]\n",
        "\n",
        "plt.figure(figsize=(8, 5))\n",
        "plt.bar(models, accuracies, width=0.6)\n",
        "\n",
        "plt.xlabel('Models', fontsize=12)\n",
        "plt.ylabel('Accuracy', fontsize=12)\n",
        "plt.title('Accuracy of Different Models', fontsize=14)\n",
        "plt.ylim(0, 1)\n",
        "plt.grid(axis='y', linestyle='--', alpha=0.7)\n",
        "\n",
        "for i, acc in enumerate(accuracies):\n",
        "    plt.text(i, acc + 0.02, f\"{acc:.2f}\", ha='center', fontsize=10)\n",
        "\n",
        "plt.tight_layout()\n",
        "plt.show()"
      ],
      "metadata": {
        "id": "tL_b4AWCgPNB"
      },
      "execution_count": null,
      "outputs": []
    }
  ],
  "metadata": {
    "colab": {
      "provenance": [],
      "toc_visible": true
    },
    "kernelspec": {
      "display_name": "Python 3",
      "name": "python3"
    }
  },
  "nbformat": 4,
  "nbformat_minor": 0
}